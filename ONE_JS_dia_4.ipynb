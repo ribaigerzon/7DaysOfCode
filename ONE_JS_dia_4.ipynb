{
  "nbformat": 4,
  "nbformat_minor": 0,
  "metadata": {
    "colab": {
      "provenance": [],
      "authorship_tag": "ABX9TyNF7Jiez6D+5Mj2L3rJB+jn",
      "include_colab_link": true
    },
    "kernelspec": {
      "name": "python3",
      "display_name": "Python 3"
    },
    "language_info": {
      "name": "python"
    }
  },
  "cells": [
    {
      "cell_type": "markdown",
      "metadata": {
        "id": "view-in-github",
        "colab_type": "text"
      },
      "source": [
        "<a href=\"https://colab.research.google.com/github/ribaigerzon/7DaysOfCode/blob/main/ONE_JS_dia_4.ipynb\" target=\"_parent\"><img src=\"https://colab.research.google.com/assets/colab-badge.svg\" alt=\"Open In Colab\"/></a>"
      ]
    },
    {
      "cell_type": "markdown",
      "source": [
        "Debes crear un pequeño programa que comience con un valor específico aleatorio entre 0 y 10 para el número que vas a adivinar (por ejemplo, el 7).\n",
        "\n",
        "A continuación, el programa te preguntará cuál es el valor que deseas adivinar y, si aciertas, te felicitará. Si te equivocas, te dará 2 intentos más.\n",
        "\n",
        "Al final, si no aciertas en ninguno de los intentos, imprimirá cuál era el número inicial."
      ],
      "metadata": {
        "id": "64W-wVlo7GVf"
      }
    },
    {
      "cell_type": "code",
      "execution_count": 12,
      "metadata": {
        "id": "TvXYENZC7F2x",
        "colab": {
          "base_uri": "https://localhost:8080/",
          "height": 17
        },
        "collapsed": true,
        "outputId": "558e10fc-18be-4052-ed9c-d983c3347a97"
      },
      "outputs": [
        {
          "output_type": "display_data",
          "data": {
            "text/plain": [
              "<IPython.core.display.Javascript object>"
            ],
            "application/javascript": [
              "function juegoAdivinanza() {\n",
              "  \n",
              "  const numeroAdivinar = Math.floor(Math.random() * 11);\n",
              "  let intentosRestantes = 3;\n",
              "\n",
              "  console.log(\"¡Bienvenido al juego de adivinanzas!\");\n",
              "\n",
              "  while (intentosRestantes > 0) {\n",
              "    \n",
              "    const intento = parseInt(prompt(\"Adivina el número (0-10):\"));\n",
              "\n",
              "    if (isNaN(intento)) {\n",
              "      console.log(\"Por favor, ingresa un número válido.\");\n",
              "      continue; \n",
              "    }\n",
              "    \n",
              "    if (intento === numeroAdivinar) {\n",
              "      console.log(\"¡Felicidades! ¡Adivinaste el número!\");\n",
              "      return;\n",
              "    } else if (intento > numeroAdivinar) {\n",
              "      intentosRestantes--;\n",
              "      console.log(\"El número secreto es menor\");\n",
              "    } else if (intento < numeroAdivinar) {\n",
              "      intentosRestantes--;\n",
              "      console.log(\"El número secreto es mayor\");\n",
              "    }\n",
              "  }\n",
              "\n",
              "  console.log('¡Se acabaron los intentos! El número era ${numeroAdivinar}.');\n",
              "}\n",
              "\n",
              "\n",
              "juegoAdivinanza();\n"
            ]
          },
          "metadata": {}
        }
      ],
      "source": [
        "%%javascript\n",
        "function juegoAdivinanza() {\n",
        "\n",
        "  const numeroAdivinar = Math.floor(Math.random() * 11);\n",
        "  let intentosRestantes = 3;\n",
        "\n",
        "  console.log(\"¡Bienvenido al juego de adivinanzas!\");\n",
        "\n",
        "  while (intentosRestantes > 0) {\n",
        "\n",
        "    const intento = parseInt(prompt(\"Adivina el número (0-10):\"));\n",
        "\n",
        "    if (isNaN(intento)) {\n",
        "      console.log(\"Por favor, ingresa un número válido.\");\n",
        "      continue;\n",
        "    }\n",
        "\n",
        "    if (intento === numeroAdivinar) {\n",
        "      console.log(\"¡Felicidades! ¡Adivinaste el número!\");\n",
        "      return;\n",
        "    } else if (intento > numeroAdivinar) {\n",
        "      intentosRestantes--;\n",
        "      console.log(\"El número secreto es menor\");\n",
        "    } else if (intento < numeroAdivinar) {\n",
        "      intentosRestantes--;\n",
        "      console.log(\"El número secreto es mayor\");\n",
        "    }\n",
        "  }\n",
        "\n",
        "  console.log('¡Se acabaron los intentos! El número era ${numeroAdivinar}.');\n",
        "}\n",
        "\n",
        "\n",
        "juegoAdivinanza();"
      ]
    }
  ]
}