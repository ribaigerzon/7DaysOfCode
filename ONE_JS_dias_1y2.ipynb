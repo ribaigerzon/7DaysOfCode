{
  "nbformat": 4,
  "nbformat_minor": 0,
  "metadata": {
    "colab": {
      "provenance": [],
      "authorship_tag": "ABX9TyMwwgBfKuOb9E/P3AxLSQld",
      "include_colab_link": true
    },
    "kernelspec": {
      "name": "python3",
      "display_name": "Python 3"
    },
    "language_info": {
      "name": "python"
    }
  },
  "cells": [
    {
      "cell_type": "markdown",
      "metadata": {
        "id": "view-in-github",
        "colab_type": "text"
      },
      "source": [
        "<a href=\"https://colab.research.google.com/github/ribaigerzon/7DaysOfCode/blob/main/ONE_JS_dias_1y2.ipynb\" target=\"_parent\"><img src=\"https://colab.research.google.com/assets/colab-badge.svg\" alt=\"Open In Colab\"/></a>"
      ]
    },
    {
      "cell_type": "markdown",
      "source": [
        "\n",
        "La parte más confusa para quienes están comenzando a aprender lógica con JavaScript es la operación de igualdad entre valores. Dependiendo de cómo escribas tu código, JavaScript hará una conversión de tipo a un tipo booleano de manera implícita (automática), y esto afectará a variables que eran Strings, Numbers, Object, etc.\n",
        "\n",
        "Esto causa algunos comportamientos extraños, como todos estos ejemplos a continuación que retornan true:\n",
        "\n",
        "console.log( false == '0' );\n",
        "console.log( null == undefined );\n",
        "console.log( \" \\t\\r\\n\" == 0 );\n",
        "console.log( ' ' == 0 );\n",
        "\n",
        "Lo cual no tiene necesariamente mucho sentido.\n",
        "\n",
        "El código a continuación imprimirá la información de manera correcta, que tenga sentido y sin errores:"
      ],
      "metadata": {
        "id": "CpgxS-q9COoh"
      }
    },
    {
      "cell_type": "code",
      "execution_count": null,
      "metadata": {
        "colab": {
          "base_uri": "https://localhost:8080/"
        },
        "collapsed": true,
        "id": "HzHo6CAtAbdG",
        "outputId": "3a3115ab-54c3-4a0a-a605-56126a297426"
      },
      "outputs": [
        {
          "output_type": "display_data",
          "data": {
            "text/plain": [
              "<IPython.core.display.Javascript object>"
            ],
            "application/javascript": [
              "let numeroUn = 1\n",
              "let stringUn = '1'\n",
              "let numeroTreinta = 30\n",
              "let stringTreinta = '30'\n",
              "let numeroDiez = 10\n",
              "let stringDiez = '10'\n",
              "\n",
              "const nombreUsuario = prompt(\"Escribe tu nombre:\");\n",
              "const edadUsuario = prompt (\"¿Cuántos años tienes?\") ;\n",
              "\n",
              "if (numeroUn == stringUn) {\n",
              "  alert(`${nombreUsuario}: Las variables numeroUn y stringUn tienen el mismo valor, pero tipos diferentes`);\n",
              "} else {\n",
              "  alert(`${nombreUsuario} : Las variables numeroUn y stringUn no tienen el mismo valor`)\n",
              "}\n",
              "\n",
              "if (numeroTreinta == stringTreinta) {\n",
              "  alert(`${nombreUsuario} : Las variables numeroTreinta y stringTreinta tienen el mismo valor y el mismo tipo`)\n",
              "} else {\n",
              "  alert('Las variables numeroTreinta y stringTreinta no tienen el mismo tipo')\n",
              "}\n",
              "\n",
              "if (numeroDiez == stringDiez) {\n",
              "  alert('Las variables numeroDiez y stringDiez tienen el mismo valor, pero tipos diferentes')\n",
              "} else {\n",
              "  alert('Las variables numeroDiez y stringDiez no tienen el mismo valor')\n",
              "}\n",
              "\n",
              "if (edadUsuario >= 18 ){\n",
              "  alert('Eres mayor de edad')\n",
              "} else {\n",
              "  alert('Aun eres menor de edad')\n",
              "}\n"
            ]
          },
          "metadata": {}
        }
      ],
      "source": [
        "%%javascript\n",
        "let numeroUn = 1\n",
        "let stringUn = '1'\n",
        "let numeroTreinta = 30\n",
        "let stringTreinta = '30'\n",
        "let numeroDiez = 10\n",
        "let stringDiez = '10'\n",
        "\n",
        "const nombreUsuario = prompt(\"Escribe tu nombre:\");\n",
        "const edadUsuario = prompt (\"¿Cuántos años tienes?\") ;\n",
        "\n",
        "if (numeroUn == stringUn) {\n",
        "  alert(`${nombreUsuario}: Las variables numeroUn y stringUn tienen el mismo valor, pero tipos diferentes`);\n",
        "} else {\n",
        "  alert(`${nombreUsuario} : Las variables numeroUn y stringUn no tienen el mismo valor`)\n",
        "}\n",
        "\n",
        "if (numeroTreinta == stringTreinta) {\n",
        "  alert(`${nombreUsuario} : Las variables numeroTreinta y stringTreinta tienen el mismo valor y el mismo tipo`)\n",
        "} else {\n",
        "  alert('Las variables numeroTreinta y stringTreinta no tienen el mismo tipo')\n",
        "}\n",
        "\n",
        "if (numeroDiez == stringDiez) {\n",
        "  alert('Las variables numeroDiez y stringDiez tienen el mismo valor, pero tipos diferentes')\n",
        "} else {\n",
        "  alert('Las variables numeroDiez y stringDiez no tienen el mismo valor')\n",
        "}\n",
        "\n",
        "if (edadUsuario >= 18 ){\n",
        "  alert('Eres mayor de edad')\n",
        "} else {\n",
        "  alert('Aun eres menor de edad')\n",
        "}"
      ]
    }
  ]
}