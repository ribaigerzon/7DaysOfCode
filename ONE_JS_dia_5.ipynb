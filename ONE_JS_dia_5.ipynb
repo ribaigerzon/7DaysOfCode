{
  "nbformat": 4,
  "nbformat_minor": 0,
  "metadata": {
    "colab": {
      "provenance": [],
      "authorship_tag": "ABX9TyMrO09Sp/lmuwidm96uj/f1",
      "include_colab_link": true
    },
    "kernelspec": {
      "name": "python3",
      "display_name": "Python 3"
    },
    "language_info": {
      "name": "python"
    }
  },
  "cells": [
    {
      "cell_type": "markdown",
      "metadata": {
        "id": "view-in-github",
        "colab_type": "text"
      },
      "source": [
        "<a href=\"https://colab.research.google.com/github/ribaigerzon/7DaysOfCode/blob/main/ONE_JS_dia_5.ipynb\" target=\"_parent\"><img src=\"https://colab.research.google.com/assets/colab-badge.svg\" alt=\"Open In Colab\"/></a>"
      ]
    },
    {
      "cell_type": "code",
      "execution_count": null,
      "metadata": {
        "id": "xieD-HHtzT5o"
      },
      "outputs": [],
      "source": []
    },
    {
      "cell_type": "markdown",
      "source": [
        "\n",
        "Debes crear un programa en Javascript que pregunte si deseas agregar un alimento a tu lista de compras, y debes poder responder con \"sí\" o \"no\".\n",
        "\n",
        "\n",
        "\n",
        "A continuación, preguntará qué alimento deseas agregar, y escribirás su nombre, como por ejemplo \"zanahoria\".\n",
        "\n",
        "\n",
        "\n",
        "Después, deberá preguntar en qué categoría se encaja ese alimento, con algunas opciones ya predefinidas, como frutas, lácteos, congelados, dulces y lo que más creas interesante. Así podrás separar todo en su respectivo grupo.\n",
        "\n",
        "\n",
        "\n",
        "Por último, en caso de que ya no quieras agregar nada más a la lista de compras y respondas \"no\" a la primera pregunta, se mostrará una lista con todos los ítems agrupados, de la siguiente manera:\n",
        "\n",
        "\n",
        "\n",
        "Si añades a tu lista:\n",
        "\n",
        "banana, leche en polvo, tomate, leche vegetal, chicle, gominola, manzana, uva, aguacate y leche de vaca.\n",
        "\n",
        "\n",
        "\n",
        "El programa debería imprimir, por ejemplo:\n",
        "\n",
        "\n",
        "\n",
        "Lista de compras:\n",
        "\n",
        "Frutas: banana, tomate, manzana, uva, aguacate\n",
        "\n",
        "Lácteos: leche vegetal, leche de vaca, leche en polvo\n",
        "\n",
        "Congelados:\n",
        "\n",
        "Dulces: chicle y gominola"
      ],
      "metadata": {
        "id": "0yuyOlySzVAN"
      }
    },
    {
      "cell_type": "code",
      "source": [
        "%%javascript\n",
        "// Inicializar la lista de compras como un objeto\n",
        "let listaDeCompras = {\n",
        "  Frutas: [],\n",
        "  Lacteos: [],\n",
        "  Congelados: [],\n",
        "  Dulces: [],\n",
        "  Otros: [], // Categoría para alimentos no clasificados\n",
        "};\n",
        "\n",
        "// Función para agregar un alimento a la lista\n",
        "function agregarAlimento() {\n",
        "  let agregar = prompt(\"¿Desea agregar un alimento a su lista de compras? (sí/no)\");\n",
        "\n",
        "  while (agregar.toLowerCase() === \"sí\") {\n",
        "    let alimento = prompt(\"¿Qué alimento desea agregar?\");\n",
        "    let categoria = prompt(\n",
        "      \"¿En qué categoría se encaja este alimento? (Frutas, Lacteos, Congelados, Dulces, Otros)\"\n",
        "    );\n",
        "\n",
        "    // Agregar el alimento a la categoría correspondiente\n",
        "    listaDeCompras[categoria].push(alimento);\n",
        "\n",
        "    agregar = prompt(\"¿Desea agregar otro alimento? (sí/no)\");\n",
        "  }\n",
        "}\n",
        "\n",
        "// Función para mostrar la lista de compras\n",
        "function mostrarListaDeCompras() {\n",
        "  console.log(\"Lista de compras:\");\n",
        "\n",
        "  for (let categoria in listaDeCompras) {\n",
        "    console.log(`${categoria}: ${listaDeCompras[categoria].join(\", \")}`);\n",
        "  }\n",
        "}\n",
        "\n",
        "\n",
        "agregarAlimento();"
      ],
      "metadata": {
        "colab": {
          "base_uri": "https://localhost:8080/",
          "height": 17
        },
        "id": "ftZeAzDiz1I1",
        "outputId": "ab95ddb4-cd3a-4efb-eacf-70c7352091ee"
      },
      "execution_count": 4,
      "outputs": [
        {
          "output_type": "display_data",
          "data": {
            "text/plain": [
              "<IPython.core.display.Javascript object>"
            ],
            "application/javascript": [
              "// Inicializar la lista de compras como un objeto\n",
              "let listaDeCompras = {\n",
              "  Frutas: [],\n",
              "  Lácteos: [],\n",
              "  Congelados: [],\n",
              "  Dulces: [],\n",
              "  Otros: [], // Categoría para alimentos no clasificados\n",
              "};\n",
              "\n",
              "// Función para agregar un alimento a la lista\n",
              "function agregarAlimento() {\n",
              "  let agregar = prompt(\"¿Desea agregar un alimento a su lista de compras? (sí/no)\");\n",
              "\n",
              "  while (agregar.toLowerCase() === \"sí\") {\n",
              "    let alimento = prompt(\"¿Qué alimento desea agregar?\");\n",
              "    let categoria = prompt(\n",
              "      \"¿En qué categoría se encaja este alimento? (Frutas, Lácteos, Congelados, Dulces, Otros)\"\n",
              "    );\n",
              "\n",
              "    // Agregar el alimento a la categoría correspondiente\n",
              "    listaDeCompras[categoria].push(alimento);\n",
              "\n",
              "    agregar = prompt(\"¿Desea agregar otro alimento? (sí/no)\");\n",
              "  }\n",
              "}\n",
              "\n",
              "// Función para mostrar la lista de compras\n",
              "function mostrarListaDeCompras() {\n",
              "  console.log(\"Lista de compras:\");\n",
              "\n",
              "  for (let categoria in listaDeCompras) {\n",
              "    console.log(`${categoria}: ${listaDeCompras[categoria].join(\", \")}`);\n",
              "  }\n",
              "}\n",
              "\n",
              "// Ejecutar el programa\n",
              "agregarAlimento();\n"
            ]
          },
          "metadata": {}
        }
      ]
    }
  ]
}