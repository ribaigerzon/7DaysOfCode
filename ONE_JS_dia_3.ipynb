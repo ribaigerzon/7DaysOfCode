{
  "nbformat": 4,
  "nbformat_minor": 0,
  "metadata": {
    "colab": {
      "provenance": [],
      "authorship_tag": "ABX9TyN0uVYUFbs1iWKVVlPzEd+4",
      "include_colab_link": true
    },
    "kernelspec": {
      "name": "python3",
      "display_name": "Python 3"
    },
    "language_info": {
      "name": "python"
    }
  },
  "cells": [
    {
      "cell_type": "markdown",
      "metadata": {
        "id": "view-in-github",
        "colab_type": "text"
      },
      "source": [
        "<a href=\"https://colab.research.google.com/github/ribaigerzon/7DaysOfCode/blob/main/ONE_JS_dia_3.ipynb\" target=\"_parent\"><img src=\"https://colab.research.google.com/assets/colab-badge.svg\" alt=\"Open In Colab\"/></a>"
      ]
    },
    {
      "cell_type": "markdown",
      "source": [
        "\n",
        "Tu desafío de hoy es crear los destinos posibles de un juego, en el que el usuario pueda elegir:\n",
        "\n",
        "Si quiere seguir hacia el área de Front-End o seguir hacia el área de Back-End.\n",
        "\n",
        "Si está en el área de Front-End, si quiere aprender React o aprender Vue. Si está en el área de Back-End, podrá aprender C# o aprender Java.\n",
        "\n",
        "Después, independientemente de las elecciones anteriores, el usuario podrá elegir entre seguir especializándose en el área elegida o desarrollarse para convertirse en Fullstack. Debes mostrar en pantalla un mensaje específico para cada elección.\n",
        "\n",
        "Finalmente, pregunta en qué tecnologías le gustaría a la persona especializarse o conocer. Aquí, la persona puede responder N tecnologías, una a la vez. Entonces, mientras continúe respondiendo **ok** a la pregunta: \"¿Hay alguna otra tecnología que te gustaría aprender?\", sigue presentando el Prompt, para que complete el nombre de la tecnología en cuestión. Y, justo después, presenta un mensaje comentando algo sobre la tecnología ingresada."
      ],
      "metadata": {
        "id": "ztt1tWDh6b2Y"
      }
    },
    {
      "cell_type": "code",
      "execution_count": 3,
      "metadata": {
        "id": "ITIDIySk6amA",
        "colab": {
          "base_uri": "https://localhost:8080/",
          "height": 17
        },
        "outputId": "52d6b778-f67b-4797-98cf-1a7d00df0145"
      },
      "outputs": [
        {
          "output_type": "display_data",
          "data": {
            "text/plain": [
              "<IPython.core.display.Javascript object>"
            ],
            "application/javascript": [
              "function juegoProgramacion() {\n",
              "  console.log(\"Bienvenido al juego de decisiones de programación.\");\n",
              "\n",
              "\n",
              "  const area = prompt(\"¿Quieres seguir hacia Front-End o Back-End? (front/back): \").toLowerCase();\n",
              "\n",
              "  // Decisiones según el área elegida\n",
              "  if (area === \"front\") {\n",
              "    const tecnologia = prompt(\"¿Quieres aprender React o Vue? (react/vue): \").toLowerCase();\n",
              "    if (tecnologia === \"react\") {\n",
              "      console.log(\"¡Excelente elección! React es una librería muy popular para interfaces de usuario.\");\n",
              "    } else if (tecnologia === \"vue\") {\n",
              "      console.log(\"¡Vue es una gran opción! Es un framework progresivo fácil de aprender.\");\n",
              "    } else {\n",
              "      console.log(\"Opción no válida.\");\n",
              "      return;\n",
              "    }\n",
              "  } else if (area === \"back\") {\n",
              "    const lenguaje = prompt(\"¿Quieres aprender C# o Java? (csharp/java): \").toLowerCase();\n",
              "    if (lenguaje === \"csharp\") {\n",
              "      console.log(\"C# es un lenguaje poderoso, muy usado en el ecosistema .NET.\");\n",
              "    } else if (lenguaje === \"java\") {\n",
              "      console.log(\"Java es un lenguaje robusto y versátil, ideal para aplicaciones empresariales.\");\n",
              "    } else {\n",
              "      console.log(\"Opción no válida.\");\n",
              "      return;\n",
              "    }\n",
              "  } else {\n",
              "    console.log(\"Opción no válida.\");\n",
              "    return;\n",
              "  }\n",
              "\n",
              "\n",
              "  const especializacion = prompt(\"¿Quieres especializarte en el área elegida o ser Fullstack? (especializar/fullstack): \").toLowerCase();\n",
              "  if (especializacion === \"especializar\") {\n",
              "    console.log(\"¡Perfecto! La especialización te permitirá dominar tu área.\");\n",
              "  } else if (especializacion === \"fullstack\") {\n",
              "    console.log(\"¡Genial! Ser Fullstack te abrirá muchas puertas en el mundo laboral.\");\n",
              "  } else {\n",
              "    console.log(\"Opción no válida.\");\n",
              "    return;\n",
              "  }\n",
              "\n",
              "\n",
              "  const tecnologiasAdicionales = [];\n",
              "  while (true) {\n",
              "    const tecnologia = prompt(\"¿En qué tecnología te gustaría especializarte o conocer? \");\n",
              "    tecnologiasAdicionales.push(tecnologia);\n",
              "    console.log(`${tecnologia} es una tecnología interesante!`);\n",
              "    const continuar = prompt(\"¿Hay alguna otra tecnología que te gustaría aprender? (ok/no): \").toLowerCase();\n",
              "    if (continuar !== \"ok\") {\n",
              "      break;\n",
              "    }\n",
              "  }\n",
              "\n",
              "  console.log(\"\\n¡Has completado tu camino de aprendizaje!\");\n",
              "  console.log(\"Tecnologías elegidas:\", tecnologiasAdicionales.join(\", \"));\n",
              "}\n",
              "\n",
              "\n",
              "juegoProgramacion();\n"
            ]
          },
          "metadata": {}
        }
      ],
      "source": [
        "%%javascript\n",
        "function juegoProgramacion() {\n",
        "  console.log(\"Bienvenido al juego de decisiones de programación.\");\n",
        "\n",
        "\n",
        "  const area = prompt(\"¿Quieres seguir hacia Front-End o Back-End? (front/back): \").toLowerCase();\n",
        "\n",
        "  // Decisiones según el área elegida\n",
        "  if (area === \"front\") {\n",
        "    const tecnologia = prompt(\"¿Quieres aprender React o Vue? (react/vue): \").toLowerCase();\n",
        "    if (tecnologia === \"react\") {\n",
        "      console.log(\"¡Excelente elección! React es una librería muy popular para interfaces de usuario.\");\n",
        "    } else if (tecnologia === \"vue\") {\n",
        "      console.log(\"¡Vue es una gran opción! Es un framework progresivo fácil de aprender.\");\n",
        "    } else {\n",
        "      console.log(\"Opción no válida.\");\n",
        "      return;\n",
        "    }\n",
        "  } else if (area === \"back\") {\n",
        "    const lenguaje = prompt(\"¿Quieres aprender C# o Java? (csharp/java): \").toLowerCase();\n",
        "    if (lenguaje === \"csharp\") {\n",
        "      console.log(\"C# es un lenguaje poderoso, muy usado en el ecosistema .NET.\");\n",
        "    } else if (lenguaje === \"java\") {\n",
        "      console.log(\"Java es un lenguaje robusto y versátil, ideal para aplicaciones empresariales.\");\n",
        "    } else {\n",
        "      console.log(\"Opción no válida.\");\n",
        "      return;\n",
        "    }\n",
        "  } else {\n",
        "    console.log(\"Opción no válida.\");\n",
        "    return;\n",
        "  }\n",
        "\n",
        "\n",
        "  const especializacion = prompt(\"¿Quieres especializarte en el área elegida o ser Fullstack? (especializar/fullstack): \").toLowerCase();\n",
        "  if (especializacion === \"especializar\") {\n",
        "    console.log(\"¡Perfecto! La especialización te permitirá dominar tu área.\");\n",
        "  } else if (especializacion === \"fullstack\") {\n",
        "    console.log(\"¡Genial! Ser Fullstack te abrirá muchas puertas en el mundo laboral.\");\n",
        "  } else {\n",
        "    console.log(\"Opción no válida.\");\n",
        "    return;\n",
        "  }\n",
        "\n",
        "\n",
        "  const tecnologiasAdicionales = [];\n",
        "  while (true) {\n",
        "    const tecnologia = prompt(\"¿En qué tecnología te gustaría especializarte o conocer? \");\n",
        "    tecnologiasAdicionales.push(tecnologia);\n",
        "    console.log(`${tecnologia} es una tecnología interesante!`);\n",
        "    const continuar = prompt(\"¿Hay alguna otra tecnología que te gustaría aprender? (ok/no): \").toLowerCase();\n",
        "    if (continuar !== \"ok\") {\n",
        "      break;\n",
        "    }\n",
        "  }\n",
        "\n",
        "  console.log(\"\\n¡Has completado tu camino de aprendizaje!\");\n",
        "  console.log(\"Tecnologías elegidas:\", tecnologiasAdicionales.join(\", \"));\n",
        "}\n",
        "\n",
        "\n",
        "juegoProgramacion();"
      ]
    }
  ]
}