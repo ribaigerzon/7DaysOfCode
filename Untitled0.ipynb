{
  "nbformat": 4,
  "nbformat_minor": 0,
  "metadata": {
    "colab": {
      "provenance": [],
      "authorship_tag": "ABX9TyNE8G6BUgRUM9G1qIzPsH6/",
      "include_colab_link": true
    },
    "kernelspec": {
      "name": "python3",
      "display_name": "Python 3"
    },
    "language_info": {
      "name": "python"
    }
  },
  "cells": [
    {
      "cell_type": "markdown",
      "metadata": {
        "id": "view-in-github",
        "colab_type": "text"
      },
      "source": [
        "<a href=\"https://colab.research.google.com/github/ribaigerzon/7DaysOfCode/blob/main/Untitled0.ipynb\" target=\"_parent\"><img src=\"https://colab.research.google.com/assets/colab-badge.svg\" alt=\"Open In Colab\"/></a>"
      ]
    },
    {
      "cell_type": "markdown",
      "source": [
        "¿te has detenido a pensar cómo funciona una calculadora?\n",
        "\n",
        "Te pide que ingreses un número, luego seleccionas un tipo de operación, otro número, y ella sola realiza el cálculo para mostrarte el resultado. ¡Increíble, verdad?\n",
        "\n",
        "En este último desafío, mi propuesta para ti es: crea tu propia calculadora, pero con un detalle muy importante: cada operación debe ser una función diferente en tu código.\n",
        "\n",
        "Primero, la persona debe elegir una opción de operación impresa por el programa en la pantalla.\n",
        "\n",
        "Luego, debe ingresar los dos valores que desea utilizar, y el programa imprimirá el resultado de la operación en cuestión.\n",
        "\n",
        "Las opciones disponibles deben ser: suma, resta, multiplicación, división, y salir. En esta última, el programa debe detenerse y mostrar un mensaje \"Hasta la próxima\".\n",
        "\n",
        " CONSEJO\n",
        "Cada operación debe tener una función diferente en tu código, que recibirá los valores ingresados como parámetros y devolverá el resultado de la operación.\n",
        "\n",
        "No olvides usar estructuras de repetición para que la calculadora imprima la elección de operación hasta que la persona desee detener el programa.\n",
        "\n",
        "Recuerda también que, además de if y else, también tenemos switch, que es muy interesante de utilizar en casos como este, de múltiples opciones."
      ],
      "metadata": {
        "id": "iqeNKVNvwYeD"
      }
    },
    {
      "cell_type": "code",
      "execution_count": 4,
      "metadata": {
        "id": "Sj3dJoThm9Ct",
        "colab": {
          "base_uri": "https://localhost:8080/",
          "height": 17
        },
        "outputId": "6db691c0-5a43-4922-af1e-3feb4fada244"
      },
      "outputs": [
        {
          "output_type": "display_data",
          "data": {
            "text/plain": [
              "<IPython.core.display.Javascript object>"
            ],
            "application/javascript": [
              "function suma(a, b) {\n",
              "  return a + b;\n",
              "}\n",
              "\n",
              "function resta(a, b) {\n",
              "  return a - b;\n",
              "}\n",
              "\n",
              "function multiplicacion(a, b) {\n",
              "  return a * b;\n",
              "}\n",
              "\n",
              "function division(a, b) {\n",
              "  if (b === 0) {\n",
              "    return \"Error: no se puede dividir por cero\";\n",
              "  }\n",
              "  return a / b;\n",
              "}\n",
              "\n",
              "function calculadora() {\n",
              "  let opcion;\n",
              "\n",
              "  while (opcion !== 5) {\n",
              "    console.log(\"\\nOpciones:\");\n",
              "    console.log(\"1. Suma\");\n",
              "    console.log(\"2. Resta\");\n",
              "    console.log(\"3. Multiplicación\");\n",
              "    console.log(\"4. División\");\n",
              "    console.log(\"5. Salir\");\n",
              "\n",
              "    opcion = parseInt(prompt(\"Elige una opción:\"));\n",
              "\n",
              "    if (opcion >= 1 && opcion <= 4) {\n",
              "      const num1 = parseFloat(prompt(\"Ingresa el primer número:\"));\n",
              "      const num2 = parseFloat(prompt(\"Ingresa el segundo número:\"));\n",
              "\n",
              "      let resultado;\n",
              "\n",
              "      switch (opcion) {\n",
              "        case 1:\n",
              "          resultado = suma(num1, num2);\n",
              "          break;\n",
              "        case 2:\n",
              "          resultado = resta(num1, num2);\n",
              "          break;\n",
              "        case 3:\n",
              "          resultado = multiplicacion(num1, num2);\n",
              "          break;\n",
              "        case 4:\n",
              "          resultado = division(num1, num2);\n",
              "          break;\n",
              "      }\n",
              "\n",
              "      console.log(\"Resultado:\", resultado);\n",
              "    } else if (opcion === 5) {\n",
              "      console.log(\"Hasta la próxima\");\n",
              "    } else {\n",
              "      console.log(\"Opción no válida\");\n",
              "    }\n",
              "  }\n",
              "}\n",
              "\n",
              "calculadora();\n"
            ]
          },
          "metadata": {}
        }
      ],
      "source": [
        "%%javascript\n",
        "function suma(a, b) {\n",
        "  return a + b;\n",
        "}\n",
        "\n",
        "function resta(a, b) {\n",
        "  return a - b;\n",
        "}\n",
        "\n",
        "function multiplicacion(a, b) {\n",
        "  return a * b;\n",
        "}\n",
        "\n",
        "function division(a, b) {\n",
        "  if (b === 0) {\n",
        "    return \"Error: no se puede dividir por cero\";\n",
        "  }\n",
        "  return a / b;\n",
        "}\n",
        "\n",
        "function calculadora() {\n",
        "  let opcion;\n",
        "\n",
        "  while (opcion !== 5) {\n",
        "    console.log(\"\\nOpciones:\");\n",
        "    console.log(\"1. Suma\");\n",
        "    console.log(\"2. Resta\");\n",
        "    console.log(\"3. Multiplicación\");\n",
        "    console.log(\"4. División\");\n",
        "    console.log(\"5. Salir\");\n",
        "\n",
        "    opcion = parseInt(prompt(\"Elige una opción:\"));\n",
        "\n",
        "    if (opcion >= 1 && opcion <= 4) {\n",
        "      const num1 = parseFloat(prompt(\"Ingresa el primer número:\"));\n",
        "      const num2 = parseFloat(prompt(\"Ingresa el segundo número:\"));\n",
        "\n",
        "      let resultado;\n",
        "\n",
        "      switch (opcion) {\n",
        "        case 1:\n",
        "          resultado = suma(num1, num2);\n",
        "          break;\n",
        "        case 2:\n",
        "          resultado = resta(num1, num2);\n",
        "          break;\n",
        "        case 3:\n",
        "          resultado = multiplicacion(num1, num2);\n",
        "          break;\n",
        "        case 4:\n",
        "          resultado = division(num1, num2);\n",
        "          break;\n",
        "      }\n",
        "\n",
        "      console.log(\"Resultado:\", resultado);\n",
        "    } else if (opcion === 5) {\n",
        "      console.log(\"Hasta la próxima\");\n",
        "    } else {\n",
        "      console.log(\"Opción no válida\");\n",
        "    }\n",
        "  }\n",
        "}\n",
        "\n",
        "calculadora();"
      ]
    }
  ]
}